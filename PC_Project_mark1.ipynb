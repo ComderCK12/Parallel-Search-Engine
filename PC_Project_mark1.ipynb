{
  "nbformat": 4,
  "nbformat_minor": 0,
  "metadata": {
    "colab": {
      "provenance": [],
      "gpuType": "T4"
    },
    "kernelspec": {
      "name": "python3",
      "display_name": "Python 3"
    },
    "language_info": {
      "name": "python"
    },
    "accelerator": "GPU",
    "gpuClass": "standard"
  },
  "cells": [
    {
      "cell_type": "code",
      "execution_count": 18,
      "metadata": {
        "colab": {
          "base_uri": "https://localhost:8080/"
        },
        "id": "jgFYvoNJu8lZ",
        "outputId": "f908eb2f-1d0e-44e5-adab-3ce49fded0c4"
      },
      "outputs": [
        {
          "output_type": "stream",
          "name": "stdout",
          "text": [
            "Looking in indexes: https://pypi.org/simple, https://us-python.pkg.dev/colab-wheels/public/simple/\n",
            "Collecting git+https://github.com/andreinechaev/nvcc4jupyter.git\n",
            "  Cloning https://github.com/andreinechaev/nvcc4jupyter.git to /tmp/pip-req-build-5jz6_say\n",
            "  Running command git clone --filter=blob:none --quiet https://github.com/andreinechaev/nvcc4jupyter.git /tmp/pip-req-build-5jz6_say\n",
            "  Resolved https://github.com/andreinechaev/nvcc4jupyter.git to commit aac710a35f52bb78ab34d2e52517237941399eff\n",
            "  Preparing metadata (setup.py) ... \u001b[?25l\u001b[?25hdone\n"
          ]
        }
      ],
      "source": [
        "!pip install git+https://github.com/andreinechaev/nvcc4jupyter.git\n"
      ]
    },
    {
      "cell_type": "code",
      "source": [
        "!apt-get -y install libomp-dev\n"
      ],
      "metadata": {
        "colab": {
          "base_uri": "https://localhost:8080/"
        },
        "id": "JE1YxMCevX9j",
        "outputId": "75c1fdae-f652-4107-fde3-19dcb36a62f2"
      },
      "execution_count": 19,
      "outputs": [
        {
          "output_type": "stream",
          "name": "stdout",
          "text": [
            "Reading package lists... Done\n",
            "Building dependency tree       \n",
            "Reading state information... Done\n",
            "libomp-dev is already the newest version (1:10.0-50~exp1).\n",
            "0 upgraded, 0 newly installed, 0 to remove and 24 not upgraded.\n"
          ]
        }
      ]
    },
    {
      "cell_type": "code",
      "source": [
        "%load_ext nvcc_plugin"
      ],
      "metadata": {
        "colab": {
          "base_uri": "https://localhost:8080/"
        },
        "id": "CUiTInccvGqN",
        "outputId": "c73ebb23-1b1c-4dac-a2d1-128c4418dbce"
      },
      "execution_count": 20,
      "outputs": [
        {
          "output_type": "stream",
          "name": "stdout",
          "text": [
            "The nvcc_plugin extension is already loaded. To reload it, use:\n",
            "  %reload_ext nvcc_plugin\n"
          ]
        }
      ]
    },
    {
      "cell_type": "code",
      "source": [
        "!pip install mpi4py"
      ],
      "metadata": {
        "colab": {
          "base_uri": "https://localhost:8080/"
        },
        "id": "6nZJ3DE46N8Y",
        "outputId": "6f932efa-c7ee-4cc8-d63d-615d1a3f448d"
      },
      "execution_count": 21,
      "outputs": [
        {
          "output_type": "stream",
          "name": "stdout",
          "text": [
            "Looking in indexes: https://pypi.org/simple, https://us-python.pkg.dev/colab-wheels/public/simple/\n",
            "Requirement already satisfied: mpi4py in /usr/local/lib/python3.10/dist-packages (3.1.4)\n"
          ]
        }
      ]
    },
    {
      "cell_type": "code",
      "source": [
        "%ls"
      ],
      "metadata": {
        "colab": {
          "base_uri": "https://localhost:8080/"
        },
        "id": "hG7MLOvr-4iy",
        "outputId": "9f25baec-8162-4d49-fcd3-49dc2f6b915a"
      },
      "execution_count": 22,
      "outputs": [
        {
          "output_type": "stream",
          "name": "stdout",
          "text": [
            "\u001b[0m\u001b[01;34msample_data\u001b[0m/  sample-text.txt  \u001b[01;34msrc\u001b[0m/\n"
          ]
        }
      ]
    },
    {
      "cell_type": "markdown",
      "source": [
        "########################################################################"
      ],
      "metadata": {
        "id": "XI1ADhDEzFgn"
      }
    },
    {
      "cell_type": "code",
      "source": [
        "import time\n",
        "from mpi4py import MPI\n",
        "\n",
        "# Linear search function\n",
        "def linear_search(data, target):\n",
        "    for item in data:\n",
        "        if item == target:\n",
        "            return True\n",
        "    return False\n",
        "\n",
        "# Parallel search function\n",
        "def parallel_search(data, target):\n",
        "    comm = MPI.COMM_WORLD\n",
        "    rank = comm.Get_rank()\n",
        "    size = comm.Get_size()\n",
        "\n",
        "    # Scatter data to all ranks\n",
        "    chunk_size = len(data) // size\n",
        "    remainder = len(data) % size\n",
        "    sendbuf = [data[i:i+chunk_size] for i in range(0, len(data), chunk_size)]\n",
        "    sendcounts = [len(sendbuf[i]) for i in range(size)]\n",
        "    displs = [sum(sendcounts[:i]) for i in range(size)]\n",
        "    recvbuf = comm.scatter(sendbuf, root=0)\n",
        "\n",
        "    # Search for target in the received data\n",
        "    found = False\n",
        "    for item in recvbuf:\n",
        "        if item == target:\n",
        "            found = True\n",
        "            break\n",
        "\n",
        "    # Combine the results from all ranks\n",
        "    global_found = comm.allreduce(found, op=MPI.LOR)\n",
        "\n",
        "    # Return the final result\n",
        "    return global_found\n",
        "\n",
        "# Generate example data\n",
        "data = [\"apple\", \"banana\", \"orange\", \"grape\", \"pineapple\", \"watermelon\", \"kiwi\"] * 100000\n",
        "\n",
        "# Analysis: Linear search\n",
        "start_time = time.time()\n",
        "result = linear_search(data, \"kiwi\")\n",
        "end_time = time.time()\n",
        "if result:\n",
        "    print(\"Linear search: Target found!\")\n",
        "else:\n",
        "    print(\"Linear search: Target not found.\")\n",
        "print(\"Linear search time: \", end_time - start_time, \"\\n\")\n",
        "\n",
        "# Analysis: Parallel search\n",
        "start_time = time.time()\n",
        "result = parallel_search(data, \"kiwi\")\n",
        "end_time = time.time()\n",
        "if result:\n",
        "    print(\"Parallel search: Target found!\")\n",
        "else:\n",
        "    print(\"Parallel search: Target not found.\")\n",
        "print(\"Parallel search time: \", end_time - start_time)\n"
      ],
      "metadata": {
        "colab": {
          "base_uri": "https://localhost:8080/"
        },
        "id": "e9PQscLPFuZD",
        "outputId": "83afbab2-6f42-4326-b633-ccf2bfcddfa6"
      },
      "execution_count": 23,
      "outputs": [
        {
          "output_type": "stream",
          "name": "stdout",
          "text": [
            "Linear search: Target found!\n",
            "Linear search time:  5.650520324707031e-05 \n",
            "\n",
            "Parallel search: Target found!\n",
            "Parallel search time:  0.03224492073059082\n"
          ]
        }
      ]
    },
    {
      "cell_type": "code",
      "source": [
        "with open('sample-text.txt', 'r') as file:\n",
        "    lines = file.readlines()\n",
        "\n",
        "words = []\n",
        "for line in lines:\n",
        "    line = line.strip()  # remove leading/trailing whitespaces\n",
        "    if line:  # skip empty lines\n",
        "        words_in_line = line.split()\n",
        "        words.extend(words_in_line)\n",
        "\n",
        "result = \"[\" + \", \".join(['\"{}\"'.format(word) for word in words]) + \"]\"\n",
        "\n",
        "print(result)\n"
      ],
      "metadata": {
        "id": "CDlYIvOiPR6M",
        "colab": {
          "base_uri": "https://localhost:8080/"
        },
        "outputId": "f1e7d48b-967f-48e3-8baf-9240d7bdeeac"
      },
      "execution_count": 24,
      "outputs": [
        {
          "output_type": "stream",
          "name": "stderr",
          "text": [
            "IOPub data rate exceeded.\n",
            "The notebook server will temporarily stop sending output\n",
            "to the client in order to avoid crashing it.\n",
            "To change this limit, set the config variable\n",
            "`--NotebookApp.iopub_data_rate_limit`.\n",
            "\n",
            "Current values:\n",
            "NotebookApp.iopub_data_rate_limit=1000000.0 (bytes/sec)\n",
            "NotebookApp.rate_limit_window=3.0 (secs)\n",
            "\n"
          ]
        }
      ]
    },
    {
      "cell_type": "markdown",
      "source": [
        "Combining the above search techniques with File read operations"
      ],
      "metadata": {
        "id": "NSkFjA9yz0Ny"
      }
    },
    {
      "cell_type": "code",
      "source": [
        "import time\n",
        "from mpi4py import MPI\n",
        "\n",
        "# Linear search function\n",
        "def linear_search(data, target):\n",
        "    for item in data:\n",
        "        if item == target:\n",
        "            return True\n",
        "    return False\n",
        "\n",
        "# # Parallel search function\n",
        "# def parallel_search(data, target):\n",
        "#     comm = MPI.COMM_WORLD\n",
        "#     rank = comm.Get_rank()\n",
        "#     size = comm.Get_size()\n",
        "\n",
        "#     # Scatter data to all ranks\n",
        "#     chunk_size = len(data) // size\n",
        "#     remainder = len(data) % size\n",
        "#     sendbuf = [data[i:i+chunk_size] for i in range(0, len(data), chunk_size)]\n",
        "#     sendcounts = [len(sendbuf[i]) for i in range(size)]\n",
        "#     displs = [sum(sendcounts[:i]) for i in range(size)]\n",
        "#     recvbuf = comm.scatter(sendbuf, root=0)\n",
        "\n",
        "#     # Search for target in the received data\n",
        "#     found = False\n",
        "#     for item in recvbuf:\n",
        "#         if item == target:\n",
        "#             found = True\n",
        "#             break\n",
        "\n",
        "#     # Combine the results from all ranks\n",
        "#     global_found = comm.allreduce(found, op=MPI.LOR)\n",
        "\n",
        "#     # Return the final result\n",
        "#     return global_found\n",
        "\n",
        "\n",
        "# Parallel search function\n",
        "def parallel_search(data, target):\n",
        "    comm = MPI.COMM_WORLD\n",
        "    rank = comm.Get_rank()\n",
        "    size = comm.Get_size()\n",
        "\n",
        "    # Measure time taken to scatter data\n",
        "    t1 = MPI.Wtime()\n",
        "\n",
        "    # Scatter data to all ranks\n",
        "    chunk_size = len(data) // size\n",
        "    remainder = len(data) % size\n",
        "    sendbuf = [data[i:i+chunk_size] for i in range(0, len(data), chunk_size)]\n",
        "    sendcounts = [len(sendbuf[i]) for i in range(size)]\n",
        "    displs = [sum(sendcounts[:i]) for i in range(size)]\n",
        "    recvbuf = comm.scatter(sendbuf, root=0)\n",
        "\n",
        "    # Measure time taken to scatter data\n",
        "    t2 = MPI.Wtime()\n",
        "\n",
        "    # Search for target in the received data\n",
        "    found = False\n",
        "    for item in recvbuf:\n",
        "        if item == target:\n",
        "            found = True\n",
        "            break\n",
        "\n",
        "    # Combine the results from all ranks\n",
        "    global_found = comm.allreduce(found, op=MPI.LOR)\n",
        "\n",
        "    #Measure the time to join threads \n",
        "    t3 = MPI.Wtime()\n",
        "\n",
        "    # Return the final result and time taken to scatter data\n",
        "    return global_found, t2 - t1, t3 - t2\n",
        "\n",
        "\n",
        "\n",
        "# Generate example data\n",
        "with open('sample-text.txt', 'r') as file:\n",
        "    lines = file.readlines()\n",
        "\n",
        "words = []\n",
        "for line in lines:\n",
        "    line = line.strip()  # remove leading/trailing whitespaces\n",
        "    if line:  # skip empty lines\n",
        "        words_in_line = line.split()\n",
        "        words.extend(words_in_line)\n",
        "\n",
        "\n",
        "# printing the txt file\n",
        "# print(words,\"\\n\")\n",
        "\n",
        "\n",
        "#######################\n",
        "\n",
        "# Analysis: Linear search\n",
        "s_start_time = time.time()\n",
        "result = linear_search(words, \"Chirag\")\n",
        "s_end_time = time.time()\n",
        "if result:\n",
        "    print(\"Linear search: Target found!\")\n",
        "else:\n",
        "    print(\"Linear search: Target not found.\")\n",
        "print(\"Linear search time: \", (s_end_time - s_start_time), \"\\n\")\n",
        "\n",
        "# # Analysis: Parallel search\n",
        "# p_start_time = time.time()\n",
        "# result = parallel_search(words, \"Chirag\")\n",
        "# p_end_time = time.time()\n",
        "# if result:\n",
        "#     print(\"Parallel search: Target found!\")\n",
        "# else:\n",
        "#     print(\"Parallel search: Target not found.\")\n",
        "# print(\"Parallel search time: \", p_end_time - p_start_time, \"\\n\")\n",
        "\n",
        "\n",
        "# Analysis: Parallel search\n",
        "p_start_time = time.time()\n",
        "result, thread_creation_time, thread_join_time = parallel_search(words, \"Chirag\")\n",
        "p_end_time = time.time()\n",
        "if result:\n",
        "    print(\"Parallel search: Target found!\")\n",
        "else:\n",
        "    print(\"Parallel search: Target not found.\")\n",
        "print(\"Parallel search time: \", p_end_time - p_start_time)\n",
        "print(\"Thread creation time: \", thread_creation_time)\n",
        "print(\"Thread join time: \", thread_join_time)\n",
        "\n",
        "ptTaken = p_end_time - p_start_time - thread_creation_time - thread_join_time\n",
        "print(\"Actuall Parallel search time: \", ptTaken)\n"
      ],
      "metadata": {
        "colab": {
          "base_uri": "https://localhost:8080/"
        },
        "id": "EpfyLLbIstDV",
        "outputId": "8d600d97-0297-4a04-d699-1e605b9069e4"
      },
      "execution_count": 68,
      "outputs": [
        {
          "output_type": "stream",
          "name": "stdout",
          "text": [
            "Linear search: Target not found.\n",
            "Linear search time:  0.004189491271972656 \n",
            "\n",
            "Parallel search: Target not found.\n",
            "Parallel search time:  0.03345847129821777\n",
            "Thread creation time:  0.02738219399998343\n",
            "Thread join time:  0.003839694999896892\n",
            "Actuall Parallel search time:  0.002236582298337453\n"
          ]
        }
      ]
    },
    {
      "cell_type": "markdown",
      "source": [
        "#### Complexity Analysis:\n",
        "\n",
        "\n"
      ],
      "metadata": {
        "id": "AaO7BNu30I3H"
      }
    },
    {
      "cell_type": "code",
      "source": [
        "p_time = p_end_time - p_start_time - thread_creation_time - thread_join_time\n",
        "s_time = s_end_time - s_start_time"
      ],
      "metadata": {
        "id": "B7irH0PTs_2i"
      },
      "execution_count": 69,
      "outputs": []
    },
    {
      "cell_type": "code",
      "source": [
        "performance_ratio = s_time / p_time\n",
        "print(\"The Parallel Algorithm implemented is better than the Serial Algorithm by \", performance_ratio, \"X\")"
      ],
      "metadata": {
        "colab": {
          "base_uri": "https://localhost:8080/"
        },
        "id": "yz8qcPIDZ2Wt",
        "outputId": "1b8d0a1f-8f2f-4353-ffbb-6c524ccd4187"
      },
      "execution_count": 70,
      "outputs": [
        {
          "output_type": "stream",
          "name": "stdout",
          "text": [
            "The Parallel Algorithm implemented is better than the Serial Algorithm by  1.8731666056227325 X\n"
          ]
        }
      ]
    },
    {
      "cell_type": "code",
      "source": [],
      "metadata": {
        "id": "Ff-mkeRfZ4DY"
      },
      "execution_count": 57,
      "outputs": []
    },
    {
      "cell_type": "code",
      "source": [],
      "metadata": {
        "id": "K_AaX7owZ6ft"
      },
      "execution_count": 27,
      "outputs": []
    }
  ]
}